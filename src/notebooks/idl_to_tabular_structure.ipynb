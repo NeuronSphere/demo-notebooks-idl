{
 "cells": [
  {
   "cell_type": "code",
   "execution_count": null,
   "metadata": {
    "collapsed": true,
    "jupyter": {
     "outputs_hidden": true,
     "source_hidden": false
    },
    "nteract": {
     "transient": {
      "deleting": false
     }
    },
    "tag": "parameters"
   },
   "outputs": [],
   "source": []
  },
  {
   "cell_type": "code",
   "execution_count": 5,
   "metadata": {
    "tags": []
   },
   "outputs": [],
   "source": [
    "from functools import reduce\n",
    "from pathlib import Path\n",
    "from typing import List\n",
    "\n",
    "from itertools import chain\n",
    "\n",
    "import json\n",
    "import yaml"
   ]
  },
  {
   "cell_type": "code",
   "execution_count": 9,
   "metadata": {
    "collapsed": false,
    "jupyter": {
     "outputs_hidden": false,
     "source_hidden": false
    },
    "nteract": {
     "transient": {
      "deleting": false
     }
    },
    "tags": []
   },
   "outputs": [
    {
     "name": "stdout",
     "output_type": "stream",
     "text": [
      "variables setup\n"
     ]
    }
   ],
   "source": [
    "hmd_folder = Path('/') / 'hmd'\n",
    "projects_folder = Path.home() / 'work'\n",
    "project_name = 'demo-notebooks-idl'\n",
    "\n",
    "project_folder = projects_folder / project_name\n",
    "\n",
    "idl_folder = project_folder / 'src' / 'idl'\n",
    "\n",
    "ts_folder = project_folder / 'src' / \"tabular_structures\"\n",
    "\n",
    "idl_file = idl_folder / 'device.yaml'\n",
    "print('variables setup')"
   ]
  },
  {
   "cell_type": "code",
   "execution_count": 10,
   "metadata": {
    "collapsed": false,
    "jupyter": {
     "outputs_hidden": false,
     "source_hidden": false
    },
    "nteract": {
     "transient": {
      "deleting": false
     }
    },
    "tags": []
   },
   "outputs": [
    {
     "name": "stdout",
     "output_type": "stream",
     "text": [
      "idl loaded\n"
     ]
    }
   ],
   "source": [
    "with idl_file.open('r') as idl_handle:\n",
    "    idl_data = yaml.safe_load(idl_handle)\n",
    "print('idl loaded')"
   ]
  },
  {
   "cell_type": "code",
   "execution_count": 11,
   "metadata": {
    "collapsed": false,
    "jupyter": {
     "outputs_hidden": false,
     "source_hidden": false
    },
    "nteract": {
     "transient": {
      "deleting": false
     }
    },
    "tags": []
   },
   "outputs": [
    {
     "name": "stdout",
     "output_type": "stream",
     "text": [
      "helpers defined\n"
     ]
    }
   ],
   "source": [
    "def build_structure(name, add_prefix=True):\n",
    "    prefix = None\n",
    "    if add_prefix:\n",
    "        prefix = name\n",
    "    struct = idl_data['structures'][name]\n",
    "    return list(map(lambda kv: build_column(kv[0], kv[1], prefix=prefix), struct['columns'].items()))\n",
    "\n",
    "def build_column(column_name, column_type, prefix=None):\n",
    "    column_segments = column_type.split(':')\n",
    "    full_column_name = column_name\n",
    "    if prefix:\n",
    "        full_column_name = f\"{prefix}.{column_name}\"\n",
    "    result =  {\n",
    "      \"identifier\": f\"tab_col-{full_column_name}\",\n",
    "      \"order\": 0,\n",
    "      \"definition\": {\n",
    "        \"__schema\": \"hmd_lang_structure.tabular_column\",\n",
    "        \"name\": full_column_name,\n",
    "        \"datatype\": column_type,\n",
    "        \"identifier\": f\"tab_col_def-{full_column_name}\"\n",
    "      }\n",
    "    }\n",
    "    if column_segments[0] == 'structure':\n",
    "        result = build_structure(column_segments[1])\n",
    "\n",
    "    return result\n",
    "\n",
    "def build_type(name, version, value):\n",
    "    columns = []\n",
    "    for column_name, column_type in value['columns'].items():\n",
    "        column_segments = column_type.split(':')\n",
    "        if column_segments[0] == 'structure':\n",
    "            columns = [*columns, *build_structure(column_segments[1])]\n",
    "        else:\n",
    "            columns.append(build_column(column_name, column_type))\n",
    "    if 'extends' in value:\n",
    "        ext_columns = build_structure(value['extends'], add_prefix=False)\n",
    "        columns = chain(columns, ext_columns)\n",
    "    result = {\n",
    "        \"__schema\": \"hmd_lang_structure.tabular_structure\",\n",
    "        \"name\": name,\n",
    "        \"version\": version,\n",
    "        \"identifier\": f\"tab_struct-{name}\",\n",
    "        \"columns\": list(columns)\n",
    "    }\n",
    "    return result\n",
    "print('helpers defined')"
   ]
  },
  {
   "cell_type": "code",
   "execution_count": 12,
   "metadata": {
    "collapsed": false,
    "jupyter": {
     "outputs_hidden": false,
     "source_hidden": false
    },
    "nteract": {
     "transient": {
      "deleting": false
     }
    },
    "tags": []
   },
   "outputs": [
    {
     "name": "stdout",
     "output_type": "stream",
     "text": [
      "Wrote to /home/jovyan/work/demo-notebooks-idl/src/tabular_structures/telemetry.hmdstruct\n",
      "Wrote to /home/jovyan/work/demo-notebooks-idl/src/tabular_structures/event.hmdstruct\n"
     ]
    }
   ],
   "source": [
    "ts_folder.mkdir(parents=True, exist_ok=True)\n",
    "version = idl_data['version']\n",
    "for name, value in idl_data['types'].items():\n",
    "    ts_file = ts_folder / f'{name}.hmdstruct'\n",
    "    with ts_file.open('w') as ts_handle:\n",
    "        json.dump(build_type(name,version, value), ts_handle, indent=2)\n",
    "        print(f\"Wrote to {ts_file}\")"
   ]
  },
  {
   "cell_type": "code",
   "execution_count": null,
   "metadata": {},
   "outputs": [],
   "source": []
  }
 ],
 "metadata": {
  "kernelspec": {
   "display_name": "Python 3 (ipykernel)",
   "language": "python",
   "name": "python3"
  },
  "language_info": {
   "codemirror_mode": {
    "name": "ipython",
    "version": 3
   },
   "file_extension": ".py",
   "mimetype": "text/x-python",
   "name": "python",
   "nbconvert_exporter": "python",
   "pygments_lexer": "ipython3",
   "version": "3.10.9"
  },
  "vscode": {
   "interpreter": {
    "hash": "aee8b7b246df8f9039afb4144a1f6fd8d2ca17a180786b69acc140d282b71a49"
   }
  }
 },
 "nbformat": 4,
 "nbformat_minor": 4
}
